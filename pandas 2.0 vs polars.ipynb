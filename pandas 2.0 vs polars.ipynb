{
 "cells": [
  {
   "cell_type": "markdown",
   "metadata": {},
   "source": [
    "# Description"
   ]
  },
  {
   "cell_type": "markdown",
   "metadata": {},
   "source": [
    "This notebook demonstrates the performance of various operations using Pandas and Polars libraries in Python concerning the time taken. These libraries play a critical role in data analysis for mid-sized datasets, where the speed of task completion is of utmost importance while maintaining flexibility and ease of use.\n",
    "\n",
    "For the tasks below, a public dataset from https://grouplens.org/datasets/movielens/ is utilized, containing approximately 25 million rows and having a data size of 662,365KB in raw text format. The dataset consists of columns such as userId, movieId, rating, and timestamp.\n",
    "\n",
    "The \"userId\" field contains 162,541 unique entries, and the \"movieId\" field contains 59,047 unique movies. The \"rating\" column indicates user feedback on a scale of 1 to 5 for the corresponding movie."
   ]
  },
  {
   "cell_type": "markdown",
   "metadata": {},
   "source": [
    "# Imports"
   ]
  },
  {
   "cell_type": "code",
   "execution_count": 1,
   "metadata": {},
   "outputs": [],
   "source": [
    "import polars as pl\n",
    "import pandas as pd\n",
    "import numpy as np\n",
    "import time\n",
    "import gzip\n",
    "import datetime\n",
    "import matplotlib.pyplot as plt\n",
    "\n",
    "import seaborn as sns\n",
    "sns.set()\n"
   ]
  },
  {
   "cell_type": "markdown",
   "metadata": {},
   "source": [
    "# Utility Functions \n",
    "Used to perform tasks"
   ]
  },
  {
   "cell_type": "code",
   "execution_count": 2,
   "metadata": {},
   "outputs": [],
   "source": [
    "def getDayOfWeek(ratingTimestamp):\n",
    "    return datetime.datetime.fromtimestamp(ratingTimestamp).weekday()\n",
    "\n",
    "def percent_changes(pd_time,pl_time):\n",
    "    return round((pl_time-pd_time)/pl_time*100,2)\n",
    "\n",
    "def timeTaken(statTime):\n",
    "    return round(time.time() - startTime,2)"
   ]
  },
  {
   "cell_type": "markdown",
   "metadata": {},
   "source": [
    "#  Metrics"
   ]
  },
  {
   "cell_type": "code",
   "execution_count": 3,
   "metadata": {},
   "outputs": [],
   "source": [
    "statsDict = {}\n",
    "\n",
    "statsList = [\"readTime\",\"rawWriteTime\",\"zipWriteTime\",\"parquetWriteTime\",\"describeTime\",\"groupbyTime\",\"filterTime\",\"transfromTime\"]\n",
    "\n",
    "for stats in statsList:\n",
    "    statsDict[stats] = {\"pd_\"+stats:\"\",\"pl_\"+stats:\"\"}"
   ]
  },
  {
   "cell_type": "markdown",
   "metadata": {},
   "source": [
    "#  Reading Dataset"
   ]
  },
  {
   "cell_type": "code",
   "execution_count": 4,
   "metadata": {},
   "outputs": [],
   "source": [
    "startTime = time.time()\n",
    "df_pd = pd.read_csv(\"./ml-25m/ml-25m/ratings.csv\",engine=\"pyarrow\")\n",
    "statsDict[\"readTime\"][\"pd_readTime\"] = timeTaken(startTime)"
   ]
  },
  {
   "cell_type": "code",
   "execution_count": 5,
   "metadata": {},
   "outputs": [],
   "source": [
    "startTime = time.time()\n",
    "df_pl = pl.read_csv(\"./ml-25m/ml-25m/ratings.csv\")\n",
    "statsDict[\"readTime\"][\"pl_readTime\"] = timeTaken(startTime)"
   ]
  },
  {
   "cell_type": "markdown",
   "metadata": {},
   "source": [
    "# Writing to raw csv format "
   ]
  },
  {
   "cell_type": "code",
   "execution_count": 6,
   "metadata": {},
   "outputs": [],
   "source": [
    "startTime = time.time()\n",
    "df_pd.to_csv(\"test_pd.csv\",index=False)\n",
    "statsDict[\"rawWriteTime\"][\"pd_rawWriteTime\"] = timeTaken(startTime)"
   ]
  },
  {
   "cell_type": "code",
   "execution_count": 7,
   "metadata": {},
   "outputs": [],
   "source": [
    "startTime = time.time()\n",
    "df_pl.write_csv(\"test_pl.csv\")\n",
    "statsDict[\"rawWriteTime\"][\"pl_rawWriteTime\"] = timeTaken(startTime)"
   ]
  },
  {
   "cell_type": "markdown",
   "metadata": {},
   "source": [
    "# Writing to parquet format with snapp compression "
   ]
  },
  {
   "cell_type": "code",
   "execution_count": 8,
   "metadata": {},
   "outputs": [],
   "source": [
    "startTime = time.time()\n",
    "df_pd.to_parquet(\"test_pd.parquet\",compression=\"snappy\")\n",
    "statsDict[\"parquetWriteTime\"][\"pd_parquetWriteTime\"] = timeTaken(startTime)\n",
    "\n",
    "startTime = time.time()\n",
    "df_pl.write_parquet(\"test_pl.parquet\",compression=\"snappy\")\n",
    "statsDict[\"parquetWriteTime\"][\"pl_parquetWriteTime\"] = timeTaken(startTime)\n"
   ]
  },
  {
   "cell_type": "markdown",
   "metadata": {},
   "source": [
    "# Writing to csv using gzip compression"
   ]
  },
  {
   "cell_type": "code",
   "execution_count": 9,
   "metadata": {},
   "outputs": [],
   "source": [
    "startTime = time.time()\n",
    "df_pd.to_csv(\"test_pd.csv.gz\",index=False,compression=\"gzip\")\n",
    "statsDict[\"zipWriteTime\"][\"pd_zipWriteTime\"] = timeTaken(startTime)\n",
    "\n",
    "startTime = time.time()\n",
    "with gzip.open(\"test_pl.csv.gzip\", 'wb') as f:\n",
    "    df_pl.write_csv(f)\n",
    "statsDict[\"zipWriteTime\"][\"pl_zipWriteTime\"] = timeTaken(startTime)"
   ]
  },
  {
   "cell_type": "markdown",
   "metadata": {},
   "source": [
    "# Running describe \n",
    "Describe is used quite heavly when performing explorotary analysis"
   ]
  },
  {
   "cell_type": "code",
   "execution_count": 10,
   "metadata": {},
   "outputs": [],
   "source": [
    "startTime = time.time()\n",
    "df_pd.describe()\n",
    "statsDict[\"describeTime\"][\"pd_describeTime\"] = timeTaken(startTime)\n",
    "\n",
    "startTime = time.time()\n",
    "df_pl.describe()\n",
    "statsDict[\"describeTime\"][\"pl_describeTime\"] = timeTaken(startTime)"
   ]
  },
  {
   "cell_type": "markdown",
   "metadata": {},
   "source": [
    "#  Groupby \n",
    "\n",
    "Generating aggregate to understand frequency of ratings provided by each users along with min and max ratings."
   ]
  },
  {
   "cell_type": "code",
   "execution_count": 11,
   "metadata": {},
   "outputs": [],
   "source": [
    "startTime = time.time()\n",
    "tmp_df_pd = df_pd.groupby(\"userId\")[\"rating\"].agg({\"count\",\"min\",\"max\"})\n",
    "statsDict[\"groupbyTime\"][\"pd_groupbyTime\"] = timeTaken(startTime)\n",
    "\n",
    "startTime = time.time()\n",
    "tmp_df_pl = df_pl.groupby(\"userId\").agg(\n",
    "    pl.count(\"rating\").alias(\"count\"),\n",
    "    pl.col(\"rating\").min().alias(\"min\"),\n",
    "    pl.col(\"rating\").max().alias(\"max\")\n",
    ").sort(\"userId\", descending=False)\n",
    "statsDict[\"groupbyTime\"][\"pl_groupbyTime\"] = timeTaken(startTime)"
   ]
  },
  {
   "cell_type": "code",
   "execution_count": 12,
   "metadata": {},
   "outputs": [
    {
     "data": {
      "text/html": [
       "<div><style>\n",
       ".dataframe > thead > tr > th,\n",
       ".dataframe > tbody > tr > td {\n",
       "  text-align: right;\n",
       "}\n",
       "</style>\n",
       "<small>shape: (5, 4)</small><table border=\"1\" class=\"dataframe\"><thead><tr><th>userId</th><th>count</th><th>min</th><th>max</th></tr><tr><td>i64</td><td>u32</td><td>f64</td><td>f64</td></tr></thead><tbody><tr><td>1</td><td>70</td><td>0.5</td><td>5.0</td></tr><tr><td>2</td><td>184</td><td>0.5</td><td>5.0</td></tr><tr><td>3</td><td>656</td><td>2.0</td><td>5.0</td></tr><tr><td>4</td><td>242</td><td>0.5</td><td>5.0</td></tr><tr><td>5</td><td>101</td><td>2.0</td><td>5.0</td></tr></tbody></table></div>"
      ],
      "text/plain": [
       "shape: (5, 4)\n",
       "┌────────┬───────┬─────┬─────┐\n",
       "│ userId ┆ count ┆ min ┆ max │\n",
       "│ ---    ┆ ---   ┆ --- ┆ --- │\n",
       "│ i64    ┆ u32   ┆ f64 ┆ f64 │\n",
       "╞════════╪═══════╪═════╪═════╡\n",
       "│ 1      ┆ 70    ┆ 0.5 ┆ 5.0 │\n",
       "│ 2      ┆ 184   ┆ 0.5 ┆ 5.0 │\n",
       "│ 3      ┆ 656   ┆ 2.0 ┆ 5.0 │\n",
       "│ 4      ┆ 242   ┆ 0.5 ┆ 5.0 │\n",
       "│ 5      ┆ 101   ┆ 2.0 ┆ 5.0 │\n",
       "└────────┴───────┴─────┴─────┘"
      ]
     },
     "execution_count": 12,
     "metadata": {},
     "output_type": "execute_result"
    }
   ],
   "source": [
    "tmp_df_pl.head()"
   ]
  },
  {
   "cell_type": "code",
   "execution_count": 13,
   "metadata": {},
   "outputs": [
    {
     "data": {
      "text/html": [
       "<div>\n",
       "<style scoped>\n",
       "    .dataframe tbody tr th:only-of-type {\n",
       "        vertical-align: middle;\n",
       "    }\n",
       "\n",
       "    .dataframe tbody tr th {\n",
       "        vertical-align: top;\n",
       "    }\n",
       "\n",
       "    .dataframe thead th {\n",
       "        text-align: right;\n",
       "    }\n",
       "</style>\n",
       "<table border=\"1\" class=\"dataframe\">\n",
       "  <thead>\n",
       "    <tr style=\"text-align: right;\">\n",
       "      <th></th>\n",
       "      <th>count</th>\n",
       "      <th>min</th>\n",
       "      <th>max</th>\n",
       "    </tr>\n",
       "    <tr>\n",
       "      <th>userId</th>\n",
       "      <th></th>\n",
       "      <th></th>\n",
       "      <th></th>\n",
       "    </tr>\n",
       "  </thead>\n",
       "  <tbody>\n",
       "    <tr>\n",
       "      <th>1</th>\n",
       "      <td>70</td>\n",
       "      <td>0.5</td>\n",
       "      <td>5.0</td>\n",
       "    </tr>\n",
       "    <tr>\n",
       "      <th>2</th>\n",
       "      <td>184</td>\n",
       "      <td>0.5</td>\n",
       "      <td>5.0</td>\n",
       "    </tr>\n",
       "    <tr>\n",
       "      <th>3</th>\n",
       "      <td>656</td>\n",
       "      <td>2.0</td>\n",
       "      <td>5.0</td>\n",
       "    </tr>\n",
       "    <tr>\n",
       "      <th>4</th>\n",
       "      <td>242</td>\n",
       "      <td>0.5</td>\n",
       "      <td>5.0</td>\n",
       "    </tr>\n",
       "    <tr>\n",
       "      <th>5</th>\n",
       "      <td>101</td>\n",
       "      <td>2.0</td>\n",
       "      <td>5.0</td>\n",
       "    </tr>\n",
       "  </tbody>\n",
       "</table>\n",
       "</div>"
      ],
      "text/plain": [
       "        count  min  max\n",
       "userId                 \n",
       "1          70  0.5  5.0\n",
       "2         184  0.5  5.0\n",
       "3         656  2.0  5.0\n",
       "4         242  0.5  5.0\n",
       "5         101  2.0  5.0"
      ]
     },
     "execution_count": 13,
     "metadata": {},
     "output_type": "execute_result"
    }
   ],
   "source": [
    "tmp_df_pd  =tmp_df_pd[[\"count\",\"min\",\"max\"]]\n",
    "tmp_df_pd.head()"
   ]
  },
  {
   "cell_type": "markdown",
   "metadata": {},
   "source": [
    "# Filter Movie rating dataset\n"
   ]
  },
  {
   "cell_type": "code",
   "execution_count": 14,
   "metadata": {},
   "outputs": [],
   "source": [
    "startTime = time.time()\n",
    "tmp_df_pd = df_pd[df_pd[\"rating\"] >= 4 ]\n",
    "statsDict[\"filterTime\"][\"pd_filterTime\"] = timeTaken(startTime)\n",
    "\n",
    "startTime = time.time()\n",
    "tmp_df_pl = df_pl.filter(pl.col(\"rating\") >= 4 )\n",
    "statsDict[\"filterTime\"][\"pl_filterTime\"] = timeTaken(startTime)"
   ]
  },
  {
   "cell_type": "code",
   "execution_count": 15,
   "metadata": {},
   "outputs": [
    {
     "name": "stdout",
     "output_type": "stream",
     "text": [
      "Size of dataset after filtering: \n",
      "Length with Polars:12452811\n",
      "Length with Pandas:12452811\n"
     ]
    }
   ],
   "source": [
    "print(\"Size of dataset after filtering: \\nLength with Polars:{}\\nLength with Pandas:{}\".format(len(tmp_df_pl),len(tmp_df_pd)))"
   ]
  },
  {
   "cell_type": "markdown",
   "metadata": {},
   "source": [
    "# Transforming \n",
    "\n",
    "Apply a custom function to a column converting timestamp in seconds to day of week in integer format"
   ]
  },
  {
   "cell_type": "code",
   "execution_count": 16,
   "metadata": {},
   "outputs": [],
   "source": [
    "\n",
    "startTime = time.time()\n",
    "df_pd[\"WeekDayOfRating\"] = df_pd[\"timestamp\"].apply(lambda x : getDayOfWeek(x))\n",
    "statsDict[\"transfromTime\"][\"pd_transfromTime\"] = timeTaken(startTime)\n",
    "\n",
    "\n",
    "startTime = time.time()\n",
    "df_pl=df_pl.with_columns([(pl.col(\"timestamp\").apply(lambda x: getDayOfWeek(x)).alias('WeekDayOfRating'))])\n",
    "statsDict[\"transfromTime\"][\"pl_transfromTime\"] = timeTaken(startTime)"
   ]
  },
  {
   "cell_type": "markdown",
   "metadata": {},
   "source": [
    "# Plot Metrics using matplotlib bar chart "
   ]
  },
  {
   "cell_type": "code",
   "execution_count": null,
   "metadata": {},
   "outputs": [],
   "source": [
    "def compare_runtimes(statsDict, exclude=\"rawWrite\"):\n",
    "    pandas_times = {}\n",
    "    polars_times = {}\n",
    "    for key in statsDict.keys():\n",
    "        for module in statsDict[key].keys():\n",
    "            tmp =  module.replace(\"Time\",\"\").split(\"_\")\n",
    "            if(exclude not in tmp):\n",
    "                if(\"pd\" in module):pandas_times[tmp[1]] = statsDict[key][module]\n",
    "                elif(\"pl\" in module):polars_times[tmp[1]] = statsDict[key][module]\n",
    "\n",
    "    fig, ax = plt.subplots(nrows=2,ncols=1,figsize=(12, 10))\n",
    "\n",
    "  # Setting the title and labels for the graph\n",
    "    ax[0].set_title(\"Compare time taken for tasks using Pandas and Polars\")\n",
    "    ax[0].set_xlabel(\"Tasks\")\n",
    "    ax[0].set_ylabel(\"Time (Seconds)\")\n",
    "\n",
    "  # Creating a bar graph for Pandas and Polars runtimes\n",
    "    operations = pandas_times.keys()\n",
    "    num_operations = len(operations)\n",
    "    bar_width = 0.35\n",
    "    pandas_x = np.arange(num_operations)\n",
    "    polars_x = pandas_x + bar_width\n",
    "\n",
    "    pandas_y = list(pandas_times.values())\n",
    "    polars_y = list(polars_times.values())\n",
    "\n",
    "    pandas_bar = ax[0].bar(pandas_x, pandas_y, bar_width, color='tab:blue', label='Pandas')\n",
    "    polars_bar = ax[0].bar(polars_x, polars_y, bar_width, color='tab:orange', label='Polars')\n",
    "\n",
    "  # Setting the x-axis ticks and labels\n",
    "    ax[0].set_xticks(pandas_x + bar_width / 2)\n",
    "    ax[0].set_xticklabels(operations)\n",
    "\n",
    "  # Setting the y-axis limit as the maximum of the two maximum values of runtimes\n",
    "    ax[0].set_ylim(0, max(max(pandas_y), max(polars_y)) * 1.2)\n",
    "\n",
    "  # Adding values on top of the bars\n",
    "    for i, bars in enumerate(zip(pandas_bar, polars_bar)):\n",
    "        for bar in bars:\n",
    "            height = bar.get_height()\n",
    "            ax[0].annotate(f\"{height:.2f}\", xy=(bar.get_x() + bar.get_width() / 2, height),\n",
    "                  xytext=(0, 3), textcoords=\"offset points\", ha='center', va='bottom')\n",
    "\n",
    "  # Adding a legend to the graph\n",
    "    ax[0].legend()\n",
    "    \n",
    "    ax[1].set_title(\"Percentage Time Reduced with Polars compared to Pandas\")\n",
    "    ax[1].set_xlabel(\"Tasks\")\n",
    "    ax[1].set_ylabel(\"Percentage Time Reduced\")\n",
    "    \n",
    "    percents = []\n",
    "    for pd_operationTime, pl_operationTime in zip(pandas_y,polars_y):\n",
    "        percents.append(percent_changes(pd_operationTime,pl_operationTime))\n",
    "\n",
    "    bars = ax[1].bar(pandas_x, percents, bar_width, color='tab:blue')\n",
    "    ax[1].set_xticks(pandas_x + bar_width / 2)\n",
    "    ax[1].set_xticklabels(operations)\n",
    "    ax[1].set_ylim(0, min(min(percents), min(percents)) * 1.2)\n",
    "    for bar in bars:\n",
    "        height = bar.get_height()\n",
    "        ax[1].annotate(f\"{height:.2f}%\", xy=(bar.get_x() + bar.get_width() / 2, height),\n",
    "                  xytext=(0, 3), textcoords=\"offset points\", ha='center', va='bottom')\n",
    "\n",
    "    \n",
    "  # Displaying the graph\n",
    "#     fig.tight_layout()\n",
    "    fig.tight_layout(pad=5.0)\n",
    "    plt.show()"
   ]
  },
  {
   "cell_type": "code",
   "execution_count": null,
   "metadata": {},
   "outputs": [],
   "source": [
    "compare_runtimes(statsDict,exclude=\"\")"
   ]
  },
  {
   "cell_type": "code",
   "execution_count": null,
   "metadata": {},
   "outputs": [],
   "source": [
    "compare_runtimes(statsDict)"
   ]
  },
  {
   "cell_type": "code",
   "execution_count": 20,
   "metadata": {},
   "outputs": [
    {
     "data": {
      "text/plain": [
       "162541"
      ]
     },
     "execution_count": 20,
     "metadata": {},
     "output_type": "execute_result"
    }
   ],
   "source": [
    "df_pd.userId.nunique()"
   ]
  },
  {
   "cell_type": "code",
   "execution_count": 21,
   "metadata": {},
   "outputs": [
    {
     "data": {
      "text/plain": [
       "59047"
      ]
     },
     "execution_count": 21,
     "metadata": {},
     "output_type": "execute_result"
    }
   ],
   "source": [
    "df_pd.movieId.nunique()"
   ]
  },
  {
   "cell_type": "code",
   "execution_count": null,
   "metadata": {},
   "outputs": [],
   "source": []
  }
 ],
 "metadata": {
  "kernelspec": {
   "display_name": "Python 3",
   "language": "python",
   "name": "python3"
  },
  "language_info": {
   "codemirror_mode": {
    "name": "ipython",
    "version": 3
   },
   "file_extension": ".py",
   "mimetype": "text/x-python",
   "name": "python",
   "nbconvert_exporter": "python",
   "pygments_lexer": "ipython3",
   "version": "3.8.5"
  }
 },
 "nbformat": 4,
 "nbformat_minor": 4
}
