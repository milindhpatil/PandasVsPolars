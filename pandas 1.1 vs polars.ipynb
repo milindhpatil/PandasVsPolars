{
 "cells": [
  {
   "cell_type": "code",
   "execution_count": 142,
   "metadata": {},
   "outputs": [],
   "source": [
    "import polars as pl\n",
    "import pandas as pd\n",
    "import time\n",
    "\n",
    "def timeTaken(statTime):\n",
    "    return round(time.time() - startTime,2)"
   ]
  },
  {
   "cell_type": "code",
   "execution_count": 143,
   "metadata": {},
   "outputs": [],
   "source": [
    "statsDict = {}\n",
    "\n",
    "statsList = [\"readTime\",\"writeTime\",\"describeTime\",\"groupbyTime\",\"filterTime\"]\n",
    "\n",
    "for stats in statsList:\n",
    "    statsDict[stats] = {\"pd_\"+stats:\"\",\"pl_\"+stats:\"\"}"
   ]
  },
  {
   "cell_type": "code",
   "execution_count": 144,
   "metadata": {},
   "outputs": [],
   "source": [
    "startTime = time.time()\n",
    "df_pd = pd.read_csv(\"./ml-25m/ml-25m/ratings.csv\")\n",
    "statsDict[\"readTime\"][\"pd_readTime\"] = timeTaken(startTime)"
   ]
  },
  {
   "cell_type": "code",
   "execution_count": 145,
   "metadata": {},
   "outputs": [],
   "source": [
    "startTime = time.time()\n",
    "df_pl = pl.read_csv(\"./ml-25m/ml-25m/ratings.csv\")\n",
    "statsDict[\"readTime\"][\"pl_readTime\"] = timeTaken(startTime)"
   ]
  },
  {
   "cell_type": "code",
   "execution_count": 146,
   "metadata": {},
   "outputs": [],
   "source": [
    "startTime = time.time()\n",
    "df_pd.to_csv(\"test_pd.csv\",index=False)\n",
    "statsDict[\"writeTime\"][\"pd_writeTime\"] = timeTaken(startTime)"
   ]
  },
  {
   "cell_type": "code",
   "execution_count": 147,
   "metadata": {},
   "outputs": [],
   "source": [
    "startTime = time.time()\n",
    "df_pl.write_csv(\"test_pl.csv\")\n",
    "statsDict[\"writeTime\"][\"pl_writeTime\"] = timeTaken(startTime)"
   ]
  },
  {
   "cell_type": "code",
   "execution_count": 148,
   "metadata": {},
   "outputs": [],
   "source": [
    "startTime = time.time()\n",
    "df_pd.describe()\n",
    "statsDict[\"describeTime\"][\"pd_describeTime\"] = timeTaken(startTime)"
   ]
  },
  {
   "cell_type": "code",
   "execution_count": 149,
   "metadata": {},
   "outputs": [],
   "source": [
    "startTime = time.time()\n",
    "df_pl.describe()\n",
    "statsDict[\"describeTime\"][\"pl_describeTime\"] = timeTaken(startTime)"
   ]
  },
  {
   "cell_type": "code",
   "execution_count": 150,
   "metadata": {},
   "outputs": [
    {
     "name": "stdout",
     "output_type": "stream",
     "text": [
      "Index(['userId', 'movieId', 'rating', 'timestamp'], dtype='object')\n",
      "['userId', 'movieId', 'rating', 'timestamp']\n"
     ]
    }
   ],
   "source": [
    "print(df_pd.columns)\n",
    "print(df_pl.columns)\n"
   ]
  },
  {
   "cell_type": "code",
   "execution_count": 151,
   "metadata": {},
   "outputs": [],
   "source": [
    "startTime = time.time()\n",
    "tmp_df_pd = df_pd.groupby(\"userId\")[\"rating\"].agg({\"count\",\"min\",\"max\"})\n",
    "statsDict[\"groupbyTime\"][\"pd_groupbyTime\"] = timeTaken(startTime)"
   ]
  },
  {
   "cell_type": "code",
   "execution_count": 152,
   "metadata": {},
   "outputs": [],
   "source": [
    "startTime = time.time()\n",
    "tmp_df_pl = df_pl.groupby(\"userId\").agg(\n",
    "    pl.count(\"rating\").alias(\"count\"),\n",
    "    pl.col(\"rating\").min().alias(\"min\"),\n",
    "    pl.col(\"rating\").max().alias(\"max\")\n",
    ").sort(\"userId\", descending=False)\n",
    "statsDict[\"groupbyTime\"][\"pl_groupbyTime\"] = timeTaken(startTime)"
   ]
  },
  {
   "cell_type": "code",
   "execution_count": 153,
   "metadata": {},
   "outputs": [
    {
     "data": {
      "text/html": [
       "<div><style>\n",
       ".dataframe > thead > tr > th,\n",
       ".dataframe > tbody > tr > td {\n",
       "  text-align: right;\n",
       "}\n",
       "</style>\n",
       "<small>shape: (5, 4)</small><table border=\"1\" class=\"dataframe\"><thead><tr><th>userId</th><th>count</th><th>min</th><th>max</th></tr><tr><td>i64</td><td>u32</td><td>f64</td><td>f64</td></tr></thead><tbody><tr><td>1</td><td>70</td><td>0.5</td><td>5.0</td></tr><tr><td>2</td><td>184</td><td>0.5</td><td>5.0</td></tr><tr><td>3</td><td>656</td><td>2.0</td><td>5.0</td></tr><tr><td>4</td><td>242</td><td>0.5</td><td>5.0</td></tr><tr><td>5</td><td>101</td><td>2.0</td><td>5.0</td></tr></tbody></table></div>"
      ],
      "text/plain": [
       "shape: (5, 4)\n",
       "┌────────┬───────┬─────┬─────┐\n",
       "│ userId ┆ count ┆ min ┆ max │\n",
       "│ ---    ┆ ---   ┆ --- ┆ --- │\n",
       "│ i64    ┆ u32   ┆ f64 ┆ f64 │\n",
       "╞════════╪═══════╪═════╪═════╡\n",
       "│ 1      ┆ 70    ┆ 0.5 ┆ 5.0 │\n",
       "│ 2      ┆ 184   ┆ 0.5 ┆ 5.0 │\n",
       "│ 3      ┆ 656   ┆ 2.0 ┆ 5.0 │\n",
       "│ 4      ┆ 242   ┆ 0.5 ┆ 5.0 │\n",
       "│ 5      ┆ 101   ┆ 2.0 ┆ 5.0 │\n",
       "└────────┴───────┴─────┴─────┘"
      ]
     },
     "execution_count": 153,
     "metadata": {},
     "output_type": "execute_result"
    }
   ],
   "source": [
    "tmp_df_pl.head()"
   ]
  },
  {
   "cell_type": "code",
   "execution_count": 154,
   "metadata": {},
   "outputs": [
    {
     "data": {
      "text/html": [
       "<div>\n",
       "<style scoped>\n",
       "    .dataframe tbody tr th:only-of-type {\n",
       "        vertical-align: middle;\n",
       "    }\n",
       "\n",
       "    .dataframe tbody tr th {\n",
       "        vertical-align: top;\n",
       "    }\n",
       "\n",
       "    .dataframe thead th {\n",
       "        text-align: right;\n",
       "    }\n",
       "</style>\n",
       "<table border=\"1\" class=\"dataframe\">\n",
       "  <thead>\n",
       "    <tr style=\"text-align: right;\">\n",
       "      <th></th>\n",
       "      <th>count</th>\n",
       "      <th>min</th>\n",
       "      <th>max</th>\n",
       "    </tr>\n",
       "    <tr>\n",
       "      <th>userId</th>\n",
       "      <th></th>\n",
       "      <th></th>\n",
       "      <th></th>\n",
       "    </tr>\n",
       "  </thead>\n",
       "  <tbody>\n",
       "    <tr>\n",
       "      <th>1</th>\n",
       "      <td>70</td>\n",
       "      <td>0.5</td>\n",
       "      <td>5.0</td>\n",
       "    </tr>\n",
       "    <tr>\n",
       "      <th>2</th>\n",
       "      <td>184</td>\n",
       "      <td>0.5</td>\n",
       "      <td>5.0</td>\n",
       "    </tr>\n",
       "    <tr>\n",
       "      <th>3</th>\n",
       "      <td>656</td>\n",
       "      <td>2.0</td>\n",
       "      <td>5.0</td>\n",
       "    </tr>\n",
       "    <tr>\n",
       "      <th>4</th>\n",
       "      <td>242</td>\n",
       "      <td>0.5</td>\n",
       "      <td>5.0</td>\n",
       "    </tr>\n",
       "    <tr>\n",
       "      <th>5</th>\n",
       "      <td>101</td>\n",
       "      <td>2.0</td>\n",
       "      <td>5.0</td>\n",
       "    </tr>\n",
       "  </tbody>\n",
       "</table>\n",
       "</div>"
      ],
      "text/plain": [
       "        count  min  max\n",
       "userId                 \n",
       "1          70  0.5  5.0\n",
       "2         184  0.5  5.0\n",
       "3         656  2.0  5.0\n",
       "4         242  0.5  5.0\n",
       "5         101  2.0  5.0"
      ]
     },
     "execution_count": 154,
     "metadata": {},
     "output_type": "execute_result"
    }
   ],
   "source": [
    "tmp_df_pd  =tmp_df_pd[[\"count\",\"min\",\"max\"]]\n",
    "tmp_df_pd.head()"
   ]
  },
  {
   "cell_type": "code",
   "execution_count": 155,
   "metadata": {},
   "outputs": [],
   "source": [
    "startTime = time.time()\n",
    "tmp_df_pd = df_pd[df_pd[\"rating\"] >= 4 ]\n",
    "statsDict[\"filterTime\"][\"pd_filterTime\"] = timeTaken(startTime)"
   ]
  },
  {
   "cell_type": "code",
   "execution_count": 156,
   "metadata": {},
   "outputs": [],
   "source": [
    "startTime = time.time()\n",
    "tmp_df_pl = df_pl.filter(pl.col(\"rating\") >= 4 )\n",
    "statsDict[\"filterTime\"][\"pl_filterTime\"] = timeTaken(startTime)"
   ]
  },
  {
   "cell_type": "code",
   "execution_count": 157,
   "metadata": {},
   "outputs": [
    {
     "data": {
      "text/html": [
       "<div><style>\n",
       ".dataframe > thead > tr > th,\n",
       ".dataframe > tbody > tr > td {\n",
       "  text-align: right;\n",
       "}\n",
       "</style>\n",
       "<small>shape: (12452811, 4)</small><table border=\"1\" class=\"dataframe\"><thead><tr><th>userId</th><th>movieId</th><th>rating</th><th>timestamp</th></tr><tr><td>i64</td><td>i64</td><td>f64</td><td>i64</td></tr></thead><tbody><tr><td>1</td><td>296</td><td>5.0</td><td>1147880044</td></tr><tr><td>1</td><td>307</td><td>5.0</td><td>1147868828</td></tr><tr><td>1</td><td>665</td><td>5.0</td><td>1147878820</td></tr><tr><td>1</td><td>1088</td><td>4.0</td><td>1147868495</td></tr><tr><td>1</td><td>1237</td><td>5.0</td><td>1147868839</td></tr><tr><td>1</td><td>1250</td><td>4.0</td><td>1147868414</td></tr><tr><td>1</td><td>1653</td><td>4.0</td><td>1147868097</td></tr><tr><td>1</td><td>2351</td><td>4.5</td><td>1147877957</td></tr><tr><td>1</td><td>2573</td><td>4.0</td><td>1147878923</td></tr><tr><td>1</td><td>2632</td><td>5.0</td><td>1147878248</td></tr><tr><td>1</td><td>2692</td><td>5.0</td><td>1147869100</td></tr><tr><td>1</td><td>2843</td><td>4.5</td><td>1147868891</td></tr><tr><td>&hellip;</td><td>&hellip;</td><td>&hellip;</td><td>&hellip;</td></tr><tr><td>162541</td><td>7153</td><td>5.0</td><td>1240952613</td></tr><tr><td>162541</td><td>7193</td><td>5.0</td><td>1240950032</td></tr><tr><td>162541</td><td>7361</td><td>4.5</td><td>1240953484</td></tr><tr><td>162541</td><td>8961</td><td>4.0</td><td>1240953338</td></tr><tr><td>162541</td><td>8983</td><td>4.5</td><td>1240953211</td></tr><tr><td>162541</td><td>31658</td><td>4.5</td><td>1240953287</td></tr><tr><td>162541</td><td>33794</td><td>4.0</td><td>1240951792</td></tr><tr><td>162541</td><td>41566</td><td>4.0</td><td>1240952749</td></tr><tr><td>162541</td><td>45517</td><td>4.5</td><td>1240953353</td></tr><tr><td>162541</td><td>50872</td><td>4.5</td><td>1240953372</td></tr><tr><td>162541</td><td>58559</td><td>4.0</td><td>1240953434</td></tr><tr><td>162541</td><td>63876</td><td>5.0</td><td>1240952515</td></tr></tbody></table></div>"
      ],
      "text/plain": [
       "shape: (12_452_811, 4)\n",
       "┌────────┬─────────┬────────┬────────────┐\n",
       "│ userId ┆ movieId ┆ rating ┆ timestamp  │\n",
       "│ ---    ┆ ---     ┆ ---    ┆ ---        │\n",
       "│ i64    ┆ i64     ┆ f64    ┆ i64        │\n",
       "╞════════╪═════════╪════════╪════════════╡\n",
       "│ 1      ┆ 296     ┆ 5.0    ┆ 1147880044 │\n",
       "│ 1      ┆ 307     ┆ 5.0    ┆ 1147868828 │\n",
       "│ 1      ┆ 665     ┆ 5.0    ┆ 1147878820 │\n",
       "│ 1      ┆ 1088    ┆ 4.0    ┆ 1147868495 │\n",
       "│ …      ┆ …       ┆ …      ┆ …          │\n",
       "│ 162541 ┆ 45517   ┆ 4.5    ┆ 1240953353 │\n",
       "│ 162541 ┆ 50872   ┆ 4.5    ┆ 1240953372 │\n",
       "│ 162541 ┆ 58559   ┆ 4.0    ┆ 1240953434 │\n",
       "│ 162541 ┆ 63876   ┆ 5.0    ┆ 1240952515 │\n",
       "└────────┴─────────┴────────┴────────────┘"
      ]
     },
     "execution_count": 157,
     "metadata": {},
     "output_type": "execute_result"
    }
   ],
   "source": [
    "tmp_df_pl"
   ]
  },
  {
   "cell_type": "code",
   "execution_count": 158,
   "metadata": {},
   "outputs": [
    {
     "data": {
      "text/html": [
       "<div>\n",
       "<style scoped>\n",
       "    .dataframe tbody tr th:only-of-type {\n",
       "        vertical-align: middle;\n",
       "    }\n",
       "\n",
       "    .dataframe tbody tr th {\n",
       "        vertical-align: top;\n",
       "    }\n",
       "\n",
       "    .dataframe thead th {\n",
       "        text-align: right;\n",
       "    }\n",
       "</style>\n",
       "<table border=\"1\" class=\"dataframe\">\n",
       "  <thead>\n",
       "    <tr style=\"text-align: right;\">\n",
       "      <th></th>\n",
       "      <th>userId</th>\n",
       "      <th>movieId</th>\n",
       "      <th>rating</th>\n",
       "      <th>timestamp</th>\n",
       "    </tr>\n",
       "  </thead>\n",
       "  <tbody>\n",
       "    <tr>\n",
       "      <th>0</th>\n",
       "      <td>1</td>\n",
       "      <td>296</td>\n",
       "      <td>5.0</td>\n",
       "      <td>1147880044</td>\n",
       "    </tr>\n",
       "    <tr>\n",
       "      <th>2</th>\n",
       "      <td>1</td>\n",
       "      <td>307</td>\n",
       "      <td>5.0</td>\n",
       "      <td>1147868828</td>\n",
       "    </tr>\n",
       "    <tr>\n",
       "      <th>3</th>\n",
       "      <td>1</td>\n",
       "      <td>665</td>\n",
       "      <td>5.0</td>\n",
       "      <td>1147878820</td>\n",
       "    </tr>\n",
       "    <tr>\n",
       "      <th>5</th>\n",
       "      <td>1</td>\n",
       "      <td>1088</td>\n",
       "      <td>4.0</td>\n",
       "      <td>1147868495</td>\n",
       "    </tr>\n",
       "    <tr>\n",
       "      <th>8</th>\n",
       "      <td>1</td>\n",
       "      <td>1237</td>\n",
       "      <td>5.0</td>\n",
       "      <td>1147868839</td>\n",
       "    </tr>\n",
       "    <tr>\n",
       "      <th>...</th>\n",
       "      <td>...</td>\n",
       "      <td>...</td>\n",
       "      <td>...</td>\n",
       "      <td>...</td>\n",
       "    </tr>\n",
       "    <tr>\n",
       "      <th>25000088</th>\n",
       "      <td>162541</td>\n",
       "      <td>41566</td>\n",
       "      <td>4.0</td>\n",
       "      <td>1240952749</td>\n",
       "    </tr>\n",
       "    <tr>\n",
       "      <th>25000089</th>\n",
       "      <td>162541</td>\n",
       "      <td>45517</td>\n",
       "      <td>4.5</td>\n",
       "      <td>1240953353</td>\n",
       "    </tr>\n",
       "    <tr>\n",
       "      <th>25000090</th>\n",
       "      <td>162541</td>\n",
       "      <td>50872</td>\n",
       "      <td>4.5</td>\n",
       "      <td>1240953372</td>\n",
       "    </tr>\n",
       "    <tr>\n",
       "      <th>25000093</th>\n",
       "      <td>162541</td>\n",
       "      <td>58559</td>\n",
       "      <td>4.0</td>\n",
       "      <td>1240953434</td>\n",
       "    </tr>\n",
       "    <tr>\n",
       "      <th>25000094</th>\n",
       "      <td>162541</td>\n",
       "      <td>63876</td>\n",
       "      <td>5.0</td>\n",
       "      <td>1240952515</td>\n",
       "    </tr>\n",
       "  </tbody>\n",
       "</table>\n",
       "<p>12452811 rows × 4 columns</p>\n",
       "</div>"
      ],
      "text/plain": [
       "          userId  movieId  rating   timestamp\n",
       "0              1      296     5.0  1147880044\n",
       "2              1      307     5.0  1147868828\n",
       "3              1      665     5.0  1147878820\n",
       "5              1     1088     4.0  1147868495\n",
       "8              1     1237     5.0  1147868839\n",
       "...          ...      ...     ...         ...\n",
       "25000088  162541    41566     4.0  1240952749\n",
       "25000089  162541    45517     4.5  1240953353\n",
       "25000090  162541    50872     4.5  1240953372\n",
       "25000093  162541    58559     4.0  1240953434\n",
       "25000094  162541    63876     5.0  1240952515\n",
       "\n",
       "[12452811 rows x 4 columns]"
      ]
     },
     "execution_count": 158,
     "metadata": {},
     "output_type": "execute_result"
    }
   ],
   "source": [
    "tmp_df_pd"
   ]
  },
  {
   "cell_type": "code",
   "execution_count": 159,
   "metadata": {},
   "outputs": [],
   "source": [
    "import matplotlib.pyplot as plt\n",
    "import seaborn as sns\n",
    "import numpy as np"
   ]
  },
  {
   "cell_type": "code",
   "execution_count": 160,
   "metadata": {},
   "outputs": [],
   "source": [
    "sns.set()"
   ]
  },
  {
   "cell_type": "code",
   "execution_count": 161,
   "metadata": {},
   "outputs": [
    {
     "data": {
      "text/plain": [
       "100.0"
      ]
     },
     "execution_count": 161,
     "metadata": {},
     "output_type": "execute_result"
    }
   ],
   "source": [
    "percent_changes(4,2)"
   ]
  },
  {
   "cell_type": "code",
   "execution_count": 183,
   "metadata": {},
   "outputs": [
    {
     "data": {
      "text/plain": [
       "-100.0"
      ]
     },
     "execution_count": 183,
     "metadata": {},
     "output_type": "execute_result"
    }
   ],
   "source": [
    "def percent_changes(pd_time,pl_time):\n",
    "    return round((pl_time-pd_time)/pl_time*100,2)\n",
    "\n",
    "\n",
    "percent_changes(4,2)"
   ]
  },
  {
   "cell_type": "code",
   "execution_count": 186,
   "metadata": {},
   "outputs": [],
   "source": [
    "def compare_runtimes(statsDict):\n",
    "    pandas_times = {}\n",
    "    polars_times = {}\n",
    "    for key in statsDict.keys():\n",
    "        for module in statsDict[key].keys():\n",
    "            tmp =  module.replace(\"Time\",\"\").split(\"_\")\n",
    "            if(\"pd\" in module):pandas_times[tmp[1]] = statsDict[key][module]\n",
    "            elif(\"pl\" in module):polars_times[tmp[1]] = statsDict[key][module]\n",
    "\n",
    "    fig, ax = plt.subplots(nrows=2,ncols=1,figsize=(12, 10))\n",
    "\n",
    "  # Setting the title and labels for the graph\n",
    "    ax[0].set_title(\"Compare time taken for tasks using Pandas and Polars\")\n",
    "    ax[0].set_xlabel(\"Tasks\")\n",
    "    ax[0].set_ylabel(\"Time (Seconds)\")\n",
    "\n",
    "  # Creating a bar graph for Pandas and Polars runtimes\n",
    "    operations = pandas_times.keys()\n",
    "    num_operations = len(operations)\n",
    "    bar_width = 0.35\n",
    "    pandas_x = np.arange(num_operations)\n",
    "    polars_x = pandas_x + bar_width\n",
    "\n",
    "    pandas_y = list(pandas_times.values())\n",
    "    polars_y = list(polars_times.values())\n",
    "\n",
    "    pandas_bar = ax[0].bar(pandas_x, pandas_y, bar_width, color='tab:blue', label='Pandas')\n",
    "    polars_bar = ax[0].bar(polars_x, polars_y, bar_width, color='tab:orange', label='Polars')\n",
    "\n",
    "  # Setting the x-axis ticks and labels\n",
    "    ax[0].set_xticks(pandas_x + bar_width / 2)\n",
    "    ax[0].set_xticklabels(operations)\n",
    "\n",
    "  # Setting the y-axis limit as the maximum of the two maximum values of runtimes\n",
    "    ax[0].set_ylim(0, max(max(pandas_y), max(polars_y)) * 1.2)\n",
    "\n",
    "  # Adding values on top of the bars\n",
    "    for i, bars in enumerate(zip(pandas_bar, polars_bar)):\n",
    "        for bar in bars:\n",
    "            height = bar.get_height()\n",
    "            ax[0].annotate(f\"{height:.2f}\", xy=(bar.get_x() + bar.get_width() / 2, height),\n",
    "                  xytext=(0, 3), textcoords=\"offset points\", ha='center', va='bottom')\n",
    "\n",
    "  # Adding a legend to the graph\n",
    "    ax[0].legend()\n",
    "    \n",
    "    ax[1].set_title(\"Percentage Time Reduced with Polars compared to Pandas\")\n",
    "    ax[1].set_xlabel(\"Tasks\")\n",
    "    ax[1].set_ylabel(\"Percentage Time Reduced\")\n",
    "    \n",
    "    percents = []\n",
    "    for pd_operationTime, pl_operationTime in zip(pandas_y,polars_y):\n",
    "        percents.append(percent_changes(pd_operationTime,pl_operationTime))\n",
    "\n",
    "    bars = ax[1].bar(pandas_x, percents, bar_width, color='tab:blue')\n",
    "    ax[1].set_xticks(pandas_x + bar_width / 2)\n",
    "    ax[1].set_xticklabels(operations)\n",
    "    ax[1].set_ylim(0, min(min(percents), min(percents)) * 1.2)\n",
    "    for bar in bars:\n",
    "        height = bar.get_height()\n",
    "        ax[1].annotate(f\"{height:.2f}%\", xy=(bar.get_x() + bar.get_width() / 2, height),\n",
    "                  xytext=(0, 3), textcoords=\"offset points\", ha='center', va='bottom')\n",
    "\n",
    "    \n",
    "  # Displaying the graph\n",
    "#     fig.tight_layout()\n",
    "    fig.tight_layout(pad=5.0)\n",
    "    plt.show()"
   ]
  },
  {
   "cell_type": "code",
   "execution_count": 187,
   "metadata": {},
   "outputs": [
    {
     "data": {
      "image/png": "[encoded data removed]",
      "text/plain": [
       "<Figure size 864x720 with 2 Axes>"
      ]
     },
     "metadata": {},
     "output_type": "display_data"
    }
   ],
   "source": [
    "compare_runtimes(statsDict)"
   ]
  },
  {
   "cell_type": "code",
   "execution_count": 180,
   "metadata": {},
   "outputs": [
    {
     "name": "stdout",
     "output_type": "stream",
     "text": [
      "\n",
      "INSTALLED VERSIONS\n",
      "------------------\n",
      "commit           : db08276bc116c438d3fdee492026f8223584c477\n",
      "python           : 3.8.5.final.0\n",
      "python-bits      : 64\n",
      "OS               : Windows\n",
      "OS-release       : 10\n",
      "Version          : 10.0.19041\n",
      "machine          : AMD64\n",
      "processor        : Intel64 Family 6 Model 165 Stepping 5, GenuineIntel\n",
      "byteorder        : little\n",
      "LC_ALL           : None\n",
      "LANG             : None\n",
      "LOCALE           : English_United States.1252\n",
      "\n",
      "pandas           : 1.1.3\n",
      "numpy            : 1.23.1\n",
      "pytz             : 2020.1\n",
      "dateutil         : 2.8.1\n",
      "pip              : 20.2.4\n",
      "setuptools       : 50.3.1.post20201107\n",
      "Cython           : 0.29.21\n",
      "pytest           : 6.1.1\n",
      "hypothesis       : None\n",
      "sphinx           : 3.2.1\n",
      "blosc            : None\n",
      "feather          : None\n",
      "xlsxwriter       : 1.3.7\n",
      "lxml.etree       : 4.6.1\n",
      "html5lib         : 1.1\n",
      "pymysql          : None\n",
      "psycopg2         : 2.9.6 (dt dec pq3 ext lo64)\n",
      "jinja2           : 3.1.2\n",
      "IPython          : 7.19.0\n",
      "pandas_datareader: 0.10.0\n",
      "bs4              : 4.9.3\n",
      "bottleneck       : 1.3.2\n",
      "fsspec           : 0.8.3\n",
      "fastparquet      : None\n",
      "gcsfs            : None\n",
      "matplotlib       : 3.3.2\n",
      "numexpr          : 2.7.1\n",
      "odfpy            : None\n",
      "openpyxl         : 3.0.5\n",
      "pandas_gbq       : None\n",
      "pyarrow          : None\n",
      "pytables         : None\n",
      "pyxlsb           : None\n",
      "s3fs             : None\n",
      "scipy            : 1.5.2\n",
      "sqlalchemy       : 1.4.47\n",
      "tables           : 3.6.1\n",
      "tabulate         : 0.9.0\n",
      "xarray           : None\n",
      "xlrd             : 1.2.0\n",
      "xlwt             : 1.3.0\n",
      "numba            : 0.51.2\n"
     ]
    }
   ],
   "source": [
    "pd.show_versions"
   ]
  },
  {
   "cell_type": "code",
   "execution_count": null,
   "metadata": {},
   "outputs": [],
   "source": []
  }
 ],
 "metadata": {
  "kernelspec": {
   "display_name": "Python 3",
   "language": "python",
   "name": "python3"
  },
  "language_info": {
   "codemirror_mode": {
    "name": "ipython",
    "version": 3
   },
   "file_extension": ".py",
   "mimetype": "text/x-python",
   "name": "python",
   "nbconvert_exporter": "python",
   "pygments_lexer": "ipython3",
   "version": "3.8.5"
  }
 },
 "nbformat": 4,
 "nbformat_minor": 4
}
